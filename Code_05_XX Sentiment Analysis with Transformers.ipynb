{
 "cells": [
  {
   "cell_type": "code",
   "execution_count": 1,
   "id": "f34d8b0d",
   "metadata": {},
   "outputs": [
    {
     "name": "stderr",
     "output_type": "stream",
     "text": [
      "C:\\Users\\hp\\anaconda3\\envs\\transformers1\\lib\\site-packages\\tqdm\\auto.py:21: TqdmWarning: IProgress not found. Please update jupyter and ipywidgets. See https://ipywidgets.readthedocs.io/en/stable/user_install.html\n",
      "  from .autonotebook import tqdm as notebook_tqdm\n"
     ]
    }
   ],
   "source": [
    "#The main package that contains functions to use Hugging Face\n",
    "import transformers\n",
    "\n",
    "#Set to avoid warning messages.\n",
    "transformers.logging.set_verbosity_error()"
   ]
  },
  {
   "cell_type": "markdown",
   "id": "73ca837c",
   "metadata": {},
   "source": [
    "## 05.02. Reviewing the Pipeline\n",
    "\n",
    "Use the pipeline registry to look at available pipeline tasks and also explore a specific pipeline"
   ]
  },
  {
   "cell_type": "code",
   "execution_count": 2,
   "id": "4c0cfee0",
   "metadata": {},
   "outputs": [
    {
     "name": "stdout",
     "output_type": "stream",
     "text": [
      "['audio-classification', 'automatic-speech-recognition', 'conversational', 'depth-estimation', 'document-question-answering', 'feature-extraction', 'fill-mask', 'image-classification', 'image-segmentation', 'image-to-text', 'mask-generation', 'ner', 'object-detection', 'question-answering', 'sentiment-analysis', 'summarization', 'table-question-answering', 'text-classification', 'text-generation', 'text2text-generation', 'token-classification', 'translation', 'video-classification', 'visual-question-answering', 'vqa', 'zero-shot-audio-classification', 'zero-shot-classification', 'zero-shot-image-classification', 'zero-shot-object-detection']\n"
     ]
    }
   ],
   "source": [
    "from transformers.pipelines import PIPELINE_REGISTRY\n",
    "\n",
    "#Get the list of tasks that are supported by Huggingface pipeline\n",
    "print(PIPELINE_REGISTRY.get_supported_tasks())\n"
   ]
  },
  {
   "cell_type": "code",
   "execution_count": 3,
   "id": "47ede308",
   "metadata": {},
   "outputs": [
    {
     "name": "stdout",
     "output_type": "stream",
     "text": [
      "\n",
      "Default Model for Sentiment Analysis: \n",
      "{'model': {'pt': ('distilbert-base-uncased-finetuned-sst-2-english', 'af0f99b'), 'tf': ('distilbert-base-uncased-finetuned-sst-2-english', 'af0f99b')}}\n"
     ]
    }
   ],
   "source": [
    "#Get information about a specific task\n",
    "print(\"\\nDefault Model for Sentiment Analysis: \")\n",
    "print(PIPELINE_REGISTRY.check_task('sentiment-analysis')[1].get('default'))"
   ]
  },
  {
   "cell_type": "markdown",
   "id": "58bb2f76",
   "metadata": {},
   "source": [
    "## 05.03 Loading a Pipeline"
   ]
  },
  {
   "cell_type": "code",
   "execution_count": 4,
   "id": "4f892fe0",
   "metadata": {},
   "outputs": [
    {
     "name": "stderr",
     "output_type": "stream",
     "text": [
      "Downloading (…)lve/main/config.json: 100%|█████████████████████████████████████████████| 629/629 [00:00<00:00, 315kB/s]\n",
      "C:\\Users\\hp\\anaconda3\\envs\\transformers1\\lib\\site-packages\\huggingface_hub\\file_download.py:133: UserWarning: `huggingface_hub` cache-system uses symlinks by default to efficiently store duplicated files but your machine does not support them in C:\\Users\\hp\\.cache\\huggingface\\hub. Caching files will still work but in a degraded version that might require more space on your disk. This warning can be disabled by setting the `HF_HUB_DISABLE_SYMLINKS_WARNING` environment variable. For more details, see https://huggingface.co/docs/huggingface_hub/how-to-cache#limitations.\n",
      "To support symlinks on Windows, you either need to activate Developer Mode or to run Python as an administrator. In order to see activate developer mode, see this article: https://docs.microsoft.com/en-us/windows/apps/get-started/enable-your-device-for-development\n",
      "  warnings.warn(message)\n",
      "Downloading model.safetensors: 100%|████████████████████████████████████████████████| 268M/268M [01:14<00:00, 3.57MB/s]\n",
      "Downloading (…)okenizer_config.json: 100%|██████████████████████████████████████████| 48.0/48.0 [00:00<00:00, 7.99kB/s]\n",
      "Downloading (…)solve/main/vocab.txt: 100%|███████████████████████████████████████████| 232k/232k [00:02<00:00, 103kB/s]\n"
     ]
    },
    {
     "name": "stdout",
     "output_type": "stream",
     "text": [
      "Huggingface Cache directory is :  C:\\Users\\hp/.cache/huggingface/hub\n"
     ]
    },
    {
     "data": {
      "text/plain": [
       "['models--distilbert-base-uncased-finetuned-sst-2-english', 'version.txt']"
      ]
     },
     "execution_count": 4,
     "metadata": {},
     "output_type": "execute_result"
    }
   ],
   "source": [
    "from transformers import pipeline\n",
    "import os\n",
    "\n",
    "#Load a pipeline. This will download the model checkpoint from huggingface and cache it \n",
    "#locally on disk. If model is already available in cache, it will simply use the cached version\n",
    "#Download will usually take a long time, depending on network bandwidth\n",
    "\n",
    "sentiment_classifier = pipeline(\"sentiment-analysis\")\n",
    "\n",
    "#Cache usually available at : <<user-home>>.cache\\huggingface\\hub\n",
    "\n",
    "cache_dir = os.path.expanduser('~') + \"/.cache/huggingface/hub\"\n",
    "print(\"Huggingface Cache directory is : \", cache_dir)\n",
    "\n",
    "#Contents of cache directory\n",
    "os.listdir(cache_dir)"
   ]
  },
  {
   "cell_type": "markdown",
   "id": "01f95416",
   "metadata": {},
   "source": [
    "## 05.04. Predicting Sentiment with Default Model"
   ]
  },
  {
   "cell_type": "code",
   "execution_count": 5,
   "id": "7f24b4ea",
   "metadata": {},
   "outputs": [
    {
     "name": "stdout",
     "output_type": "stream",
     "text": [
      "[{'label': 'POSITIVE', 'score': 0.9998713731765747}]\n"
     ]
    }
   ],
   "source": [
    "#Predict sentiment using the pipeline\n",
    "sentiment_results=sentiment_classifier(\"This is a great course\")\n",
    "print(sentiment_results)\n"
   ]
  },
  {
   "cell_type": "code",
   "execution_count": 6,
   "id": "104c06f7",
   "metadata": {},
   "outputs": [
    {
     "name": "stdout",
     "output_type": "stream",
     "text": [
      "[{'label': 'NEGATIVE', 'score': 0.9998070597648621}]\n"
     ]
    }
   ],
   "source": [
    "#A second example\n",
    "sentiment_results=sentiment_classifier(\"The download speed is really bad\")\n",
    "print(sentiment_results)"
   ]
  },
  {
   "cell_type": "markdown",
   "id": "8154d932",
   "metadata": {},
   "source": [
    "## 05.05. Using a custom Model"
   ]
  },
  {
   "cell_type": "code",
   "execution_count": null,
   "id": "2e52dbb2",
   "metadata": {},
   "outputs": [
    {
     "name": "stderr",
     "output_type": "stream",
     "text": [
      "Downloading (…)lve/main/config.json: 100%|█████████████████████████████████████████████| 949/949 [00:00<00:00, 318kB/s]\n",
      "Downloading pytorch_model.bin:  16%|███████▎                                       | 83.9M/540M [00:55<05:01, 1.51MB/s]\n",
      "Downloading tf_model.h5:   0%|                                                              | 0.00/540M [00:00<?, ?B/s]"
     ]
    }
   ],
   "source": [
    "sentiment_classifier = pipeline(task=\"sentiment-analysis\",\n",
    "                                model=\"finiteautomata/bertweet-base-sentiment-analysis\")\n",
    "\n",
    "sentiment_result=sentiment_classifier(\"This is a great course\")\n",
    "\n",
    "print(sentiment_result)\n",
    "\n",
    "#Contents of cache directory\n",
    "os.listdir(cache_dir)"
   ]
  },
  {
   "cell_type": "code",
   "execution_count": null,
   "id": "5c7ed64d",
   "metadata": {},
   "outputs": [],
   "source": []
  }
 ],
 "metadata": {
  "kernelspec": {
   "display_name": "Python 3 (ipykernel)",
   "language": "python",
   "name": "python3"
  },
  "language_info": {
   "codemirror_mode": {
    "name": "ipython",
    "version": 3
   },
   "file_extension": ".py",
   "mimetype": "text/x-python",
   "name": "python",
   "nbconvert_exporter": "python",
   "pygments_lexer": "ipython3",
   "version": "3.9.16"
  }
 },
 "nbformat": 4,
 "nbformat_minor": 5
}
